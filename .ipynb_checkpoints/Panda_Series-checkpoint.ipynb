{
 "cells": [
  {
   "cell_type": "markdown",
   "id": "6f3da08a-2ea9-4b9d-941d-e6eb5a10a107",
   "metadata": {},
   "source": [
    "# Pandas Series"
   ]
  },
  {
   "cell_type": "markdown",
   "id": "b6d5fee2-8d01-4ee6-817b-32afc85cd185",
   "metadata": {},
   "source": [
    "##### Uma Pandas Series é uma estrutura de dados unidimensional que pode armazenar dados de diferentes tipos (como inteiros, floats, strings, etc.) em Python. Cada elemento da série possui um índice, que permite acesso e manipulação fácil dos dados. As séries são muito úteis para análise de dados e são frequentemente usadas em conjunto com DataFrames, que são estruturas bidimensionais do Pandas."
   ]
  },
  {
   "cell_type": "code",
   "execution_count": 3,
   "id": "737ad8aa-3f1c-4b69-8a44-7122a0f293c3",
   "metadata": {},
   "outputs": [],
   "source": [
    "# Importar a biblioteca\n",
    "import pandas as pd"
   ]
  },
  {
   "cell_type": "code",
   "execution_count": 9,
   "id": "38a43073-5a46-4f82-a55e-e69f0f11b552",
   "metadata": {},
   "outputs": [
    {
     "name": "stdout",
     "output_type": "stream",
     "text": [
      "Serie\n",
      "a    1\n",
      "b    2\n",
      "c    3\n",
      "d    4\n",
      "e    5\n",
      "dtype: int64\n"
     ]
    }
   ],
   "source": [
    "# Criar uma Serie\n",
    "lista = [1, 2, 3, 4, 5]\n",
    "ind = [\"a\", \"b\", \"c\", \"d\", \"e\"]\n",
    "data = pd.Series(lista, index=ind)\n",
    "print(\"Serie\")\n",
    "print(data)"
   ]
  },
  {
   "cell_type": "markdown",
   "id": "8fa9ef58-971e-45b3-b986-230f88be22f0",
   "metadata": {},
   "source": [
    "# Manipulando Series"
   ]
  },
  {
   "cell_type": "code",
   "execution_count": 14,
   "id": "7008b93d-fdb6-45cb-9256-f85851781ffd",
   "metadata": {},
   "outputs": [
    {
     "name": "stdout",
     "output_type": "stream",
     "text": [
      "3\n",
      "5\n"
     ]
    }
   ],
   "source": [
    "#Acessar um elemento pela Chave do índice\n",
    "print(data['c'])\n",
    "print(data['e'])"
   ]
  },
  {
   "cell_type": "code",
   "execution_count": 15,
   "id": "ccfc359d-1ca8-402d-86d7-7023da9be41c",
   "metadata": {},
   "outputs": [
    {
     "name": "stdout",
     "output_type": "stream",
     "text": [
      "a     1\n",
      "b     2\n",
      "c     3\n",
      "d    10\n",
      "e     5\n",
      "dtype: int64\n"
     ]
    }
   ],
   "source": [
    "#Modificar um elemento\n",
    "data[\"d\"] = 10\n",
    "print(data)"
   ]
  },
  {
   "cell_type": "code",
   "execution_count": 19,
   "id": "7226b431-bfff-4ea2-8936-68c6f27edecd",
   "metadata": {},
   "outputs": [
    {
     "name": "stdout",
     "output_type": "stream",
     "text": [
      "b     4\n",
      "c     6\n",
      "d    20\n",
      "e    10\n",
      "dtype: int64\n"
     ]
    }
   ],
   "source": [
    "#Filtrar a Série\n",
    "filtro = data[data > 2]\n",
    "print(filtro)"
   ]
  },
  {
   "cell_type": "code",
   "execution_count": 17,
   "id": "88c3426d-aa06-4135-bbbc-b1a2c2aa4bd0",
   "metadata": {},
   "outputs": [
    {
     "name": "stdout",
     "output_type": "stream",
     "text": [
      "a     2\n",
      "b     4\n",
      "c     6\n",
      "d    20\n",
      "e    10\n",
      "dtype: int64\n"
     ]
    }
   ],
   "source": [
    "#Operações matemáticas\n",
    "data = data * 2\n",
    "print(data)"
   ]
  },
  {
   "cell_type": "markdown",
   "id": "a0b59ad0-a877-4970-a71d-5bfbeb59d175",
   "metadata": {},
   "source": [
    "# Máscara booleana "
   ]
  },
  {
   "cell_type": "code",
   "execution_count": null,
   "id": "a04466fb-bc16-4409-a8fc-dd601c6fec2b",
   "metadata": {},
   "outputs": [],
   "source": []
  },
  {
   "cell_type": "code",
   "execution_count": 20,
   "id": "41d95d66-e643-4cc6-961f-6e28aa210405",
   "metadata": {},
   "outputs": [
    {
     "name": "stdout",
     "output_type": "stream",
     "text": [
      "Série original:\n",
      "a     2\n",
      "b     4\n",
      "c     6\n",
      "d    20\n",
      "e    10\n",
      "dtype: int64\n",
      "\n",
      "Série filtrada (valores > 3):\n",
      "b     4\n",
      "c     6\n",
      "d    20\n",
      "e    10\n",
      "dtype: int64\n"
     ]
    }
   ],
   "source": [
    "# Criando uma máscara booleana para filtrar valores maiores que 3\n",
    "mascara = data > 3\n",
    "\n",
    "# Aplicando a máscara para filtrar os elementos\n",
    "filtrados = data[mascara]\n",
    "\n",
    "print(\"Série original:\")\n",
    "print(data)\n",
    "\n",
    "print(\"\\nSérie filtrada (valores > 3):\")\n",
    "print(filtrados)\n"
   ]
  },
  {
   "cell_type": "markdown",
   "id": "749f2947-1569-43c5-b2f3-ced800fc3f61",
   "metadata": {},
   "source": [
    "# Outros tipos de manipulação "
   ]
  },
  {
   "cell_type": "code",
   "execution_count": 23,
   "id": "0bafa319-fca6-40f2-a0e3-3785b251368c",
   "metadata": {},
   "outputs": [
    {
     "name": "stdout",
     "output_type": "stream",
     "text": [
      "Pandas Series se alinham automaticamente por seus índices, facilitando operações entre séries com diferentes índices.\n",
      "a    NaN\n",
      "b    6.0\n",
      "c    8.0\n",
      "d    NaN\n",
      "dtype: float64\n"
     ]
    }
   ],
   "source": [
    "# Alinhamento de series\n",
    "s1 = pd.Series([1, 2, 3], index=[\"a\", \"b\", \"c\"])\n",
    "s2 = pd.Series([4, 5, 6], index=[\"b\", \"c\", \"d\"])\n",
    "print(\"Pandas Series se alinham automaticamente por seus índices, facilitando operações entre séries com diferentes índices.\")\n",
    "print(s1 + s2)"
   ]
  },
  {
   "cell_type": "code",
   "execution_count": 24,
   "id": "5c7bd203-5aae-4c3c-b18c-a650cf60c7f7",
   "metadata": {},
   "outputs": [
    {
     "name": "stdout",
     "output_type": "stream",
     "text": [
      "A     2\n",
      "B     4\n",
      "C     6\n",
      "D    20\n",
      "E    10\n",
      "dtype: int64\n"
     ]
    }
   ],
   "source": [
    "# Manipulaçao de indices\n",
    "data.index = [\"A\",\"B\",\"C\",\"D\",\"E\"]\n",
    "print(data)"
   ]
  },
  {
   "cell_type": "code",
   "execution_count": 25,
   "id": "d4542bae-4924-4b0d-8eb3-67b041f6a791",
   "metadata": {},
   "outputs": [
    {
     "name": "stdout",
     "output_type": "stream",
     "text": [
      "A      4\n",
      "B     16\n",
      "C     36\n",
      "D    400\n",
      "E    100\n",
      "dtype: int64\n"
     ]
    }
   ],
   "source": [
    "# Aplicar funções\n",
    "# Você pode aplicar funções personalizadas a cada elemento usando .apply() ou .map().\n",
    "data = data.apply(lambda x: x ** 2) #Eleva cada elemento ao quadrado\n",
    "print(data)"
   ]
  },
  {
   "cell_type": "markdown",
   "id": "c57df0db-f9a9-4d43-b18e-ea182072b2c2",
   "metadata": {},
   "source": [
    "# Funções Estatísticas"
   ]
  },
  {
   "cell_type": "code",
   "execution_count": 28,
   "id": "9cfec2fc-6321-4f28-88b4-c9f7c2cc4328",
   "metadata": {},
   "outputs": [
    {
     "name": "stdout",
     "output_type": "stream",
     "text": [
      "0    9.18\n",
      "1    1.02\n",
      "2    6.64\n",
      "3    6.71\n",
      "4    1.43\n",
      "5    6.51\n",
      "6    5.74\n",
      "7    1.19\n",
      "8    7.18\n",
      "9    4.78\n",
      "dtype: float64\n"
     ]
    }
   ],
   "source": [
    "import pandas as pd\n",
    "import numpy as np\n",
    "\n",
    "# Gerar 10 números aleatórios entre 0 e 10\n",
    "numeros_aleatorios = np.random.uniform(0, 10, 10)\n",
    "\n",
    "# Arredondar para 2 casas decimais\n",
    "numeros_aleatorios = np.round(numeros_aleatorios, 2)\n",
    "\n",
    "# Criar uma Série com esses números aleatórios\n",
    "serie_aleatoria = pd.Series(numeros_aleatorios)\n",
    "\n",
    "print(serie_aleatoria)\n"
   ]
  },
  {
   "cell_type": "code",
   "execution_count": 29,
   "id": "5b403d8b-a785-4d9e-b650-10acb1457ade",
   "metadata": {},
   "outputs": [
    {
     "name": "stdout",
     "output_type": "stream",
     "text": [
      "50.379999999999995\n"
     ]
    }
   ],
   "source": [
    "# Soma de elementos \n",
    "print(serie_aleatoria.sum())"
   ]
  },
  {
   "cell_type": "code",
   "execution_count": 30,
   "id": "1371792b-03d4-469b-b438-d44437c9413e",
   "metadata": {},
   "outputs": [
    {
     "name": "stdout",
     "output_type": "stream",
     "text": [
      "5.037999999999999\n"
     ]
    }
   ],
   "source": [
    "# Media dos elementos\n",
    "print(serie_aleatoria.mean())"
   ]
  },
  {
   "cell_type": "code",
   "execution_count": 31,
   "id": "d947cea1-27c6-49e3-aadc-14c32145fc1c",
   "metadata": {},
   "outputs": [
    {
     "name": "stdout",
     "output_type": "stream",
     "text": [
      "10\n"
     ]
    }
   ],
   "source": [
    "# Elementos não nulos\n",
    "print(serie_aleatoria.count())"
   ]
  },
  {
   "cell_type": "code",
   "execution_count": 32,
   "id": "3dc6b1b8-b976-461e-add2-f23e82a2ca94",
   "metadata": {},
   "outputs": [
    {
     "name": "stdout",
     "output_type": "stream",
     "text": [
      "2.86359447780815\n"
     ]
    }
   ],
   "source": [
    "# desvio padrão\n",
    "print(serie_aleatoria.std())"
   ]
  },
  {
   "cell_type": "code",
   "execution_count": 33,
   "id": "f3ca4064-7335-4a4a-acf7-2a9771807881",
   "metadata": {},
   "outputs": [
    {
     "name": "stdout",
     "output_type": "stream",
     "text": [
      "1.02\n",
      "9.18\n"
     ]
    }
   ],
   "source": [
    "# menor e maior\n",
    "print(serie_aleatoria.min())\n",
    "print(serie_aleatoria.max())"
   ]
  },
  {
   "cell_type": "code",
   "execution_count": 34,
   "id": "4a73ef30-557e-4378-b24f-d8caf951d65b",
   "metadata": {},
   "outputs": [
    {
     "name": "stdout",
     "output_type": "stream",
     "text": [
      "6.125\n"
     ]
    }
   ],
   "source": [
    "# Calcula a mediana\n",
    "print(serie_aleatoria.median())"
   ]
  },
  {
   "cell_type": "code",
   "execution_count": 35,
   "id": "f1fbb42f-485a-40b4-9527-8a7f93cf4d28",
   "metadata": {},
   "outputs": [
    {
     "name": "stdout",
     "output_type": "stream",
     "text": [
      "0    1.02\n",
      "1    1.19\n",
      "2    1.43\n",
      "3    4.78\n",
      "4    5.74\n",
      "5    6.51\n",
      "6    6.64\n",
      "7    6.71\n",
      "8    7.18\n",
      "9    9.18\n",
      "dtype: float64\n"
     ]
    }
   ],
   "source": [
    "# Retorna o valor mais frequente (moda)\n",
    "print(serie_aleatoria.mode())"
   ]
  },
  {
   "cell_type": "code",
   "execution_count": 36,
   "id": "ba03300e-a6bb-49a9-8f01-5c951a797140",
   "metadata": {},
   "outputs": [
    {
     "data": {
      "text/plain": [
       "16.0"
      ]
     },
     "execution_count": 36,
     "metadata": {},
     "output_type": "execute_result"
    }
   ],
   "source": [
    "# Calcula quantis específicos(percentis)\n",
    "data.quantile(0.25)  # 25º percentil"
   ]
  },
  {
   "cell_type": "code",
   "execution_count": null,
   "id": "fa40bb71-73e4-4cd1-8829-4864e10ec680",
   "metadata": {},
   "outputs": [],
   "source": []
  }
 ],
 "metadata": {
  "kernelspec": {
   "display_name": "Python 3 (ipykernel)",
   "language": "python",
   "name": "python3"
  },
  "language_info": {
   "codemirror_mode": {
    "name": "ipython",
    "version": 3
   },
   "file_extension": ".py",
   "mimetype": "text/x-python",
   "name": "python",
   "nbconvert_exporter": "python",
   "pygments_lexer": "ipython3",
   "version": "3.12.5"
  }
 },
 "nbformat": 4,
 "nbformat_minor": 5
}
