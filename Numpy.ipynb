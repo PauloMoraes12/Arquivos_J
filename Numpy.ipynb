{
 "cells": [
  {
   "cell_type": "markdown",
   "id": "69a25f56-9b06-4ddd-8480-c2e573df6fcb",
   "metadata": {},
   "source": [
    "# Criação de um ARRAY"
   ]
  },
  {
   "cell_type": "code",
   "execution_count": 8,
   "id": "09438160-77b6-4f79-8c7f-3e0c19f3fbed",
   "metadata": {},
   "outputs": [
    {
     "name": "stdout",
     "output_type": "stream",
     "text": [
      "[1 2 3 4 5]\n",
      "<class 'numpy.ndarray'>\n"
     ]
    }
   ],
   "source": [
    "import numpy as np\n",
    "#Criando um array1 \n",
    "\n",
    "lista1 = [1, 2, 3, 4, 5]\n",
    "array1 = np.array(lista1)\n",
    "print(array1)\n",
    "print(type(array1))"
   ]
  },
  {
   "cell_type": "code",
   "execution_count": 10,
   "id": "a06bc899-8f33-4369-8cdd-89830ec75596",
   "metadata": {},
   "outputs": [
    {
     "name": "stdout",
     "output_type": "stream",
     "text": [
      "[ 6  7  8  9 10]\n",
      "<class 'numpy.ndarray'>\n"
     ]
    }
   ],
   "source": [
    "#criando um array2\n",
    "\n",
    "lista2 = [6, 7, 8, 9, 10]\n",
    "array2 = np.array(lista2)\n",
    "print(array2)\n",
    "print(type(array2))"
   ]
  },
  {
   "cell_type": "markdown",
   "id": "31161520-80c5-4965-ad7b-e0191670ed1d",
   "metadata": {},
   "source": [
    "# Operações Matemáticas"
   ]
  },
  {
   "cell_type": "code",
   "execution_count": 15,
   "id": "7df12a5c-add3-4bab-876d-5a32209fb8d2",
   "metadata": {},
   "outputs": [
    {
     "name": "stdout",
     "output_type": "stream",
     "text": [
      "[ 7  9 11 13 15]\n",
      "<class 'numpy.ndarray'>\n"
     ]
    }
   ],
   "source": [
    "result = array1 + array2\n",
    "print(result)\n",
    "print(type(result))"
   ]
  },
  {
   "cell_type": "markdown",
   "id": "2356cb44-a6c9-4433-a453-1cbdc771db91",
   "metadata": {},
   "source": [
    "# Indexação e Slicing\n",
    "## Indexação: Refere-se ao acesso a elementos individuais em um array ou matriz. Em Numpy, vpcẽ pode acessar um elemento usando a notação de colchetes. Por exemplo, array[2] acessa o terceiro elemento de um array.\n",
    "## Slicing: É a prática de extrair um subconjunto de elementos de um array. Você pode especificar um intervalo de índices. Por exemplo, array[1:4] retornará os elementos do índice 1 ao 3.  "
   ]
  },
  {
   "cell_type": "code",
   "execution_count": 14,
   "id": "30697400-373e-4eaa-81ed-ec7edcd3f249",
   "metadata": {},
   "outputs": [
    {
     "name": "stdout",
     "output_type": "stream",
     "text": [
      "9\n",
      "4\n",
      "13\n"
     ]
    }
   ],
   "source": [
    "#Acesso pela indexação\n",
    "print(array2[3])\n",
    "print(array1[3])\n",
    "print(result[3])"
   ]
  },
  {
   "cell_type": "code",
   "execution_count": 24,
   "id": "15327725-8a56-436c-a6d7-0dfaff1f891b",
   "metadata": {},
   "outputs": [
    {
     "name": "stdout",
     "output_type": "stream",
     "text": [
      "[3]\n",
      "[3 4]\n",
      "[3 4 5]\n",
      "[ 8  9 10]\n",
      "[ 8  9 10]\n",
      "[ 6  7  8  9 10]\n"
     ]
    }
   ],
   "source": [
    "#Extraindo elemento via Slicing\n",
    "slice = array1[2:3]\n",
    "print(slice)\n",
    "print(array1[2:4])\n",
    "print(array1[2:5])\n",
    "print(array2[2:6]) #No caso são só [0 - 1 - 2 - 3 - 4] cinco valores ao total\n",
    "print(array2[2:5])\n",
    "print(array2[0:5]) #Aqui mostra todos os valores"
   ]
  },
  {
   "cell_type": "markdown",
   "id": "1fe76e23-d500-449f-9713-157760c54231",
   "metadata": {},
   "source": [
    "# Funções Estatísticas"
   ]
  },
  {
   "cell_type": "code",
   "execution_count": 27,
   "id": "7ad84e5e-5dca-440d-832b-121c633a80ed",
   "metadata": {},
   "outputs": [
    {
     "name": "stdout",
     "output_type": "stream",
     "text": [
      "[6.99 7.36 9.8  0.69 5.64 9.67 1.42 5.52 7.94 4.23]\n"
     ]
    }
   ],
   "source": [
    "# Gerar uma lista aleatória de 10 números reais entre 0 e 10\n",
    "lista_aleatoria = np.random.uniform(0, 10, 10)\n",
    "\n",
    "# Arredondar para 2 casas decimais\n",
    "lista_aleatoria = np.round(lista_aleatoria, 2)\n",
    "\n",
    "print(lista_aleatoria)"
   ]
  },
  {
   "cell_type": "code",
   "execution_count": 29,
   "id": "ef2b0222-b997-4800-a752-6501c955f2a5",
   "metadata": {},
   "outputs": [
    {
     "name": "stdout",
     "output_type": "stream",
     "text": [
      "5.926\n"
     ]
    }
   ],
   "source": [
    "#01 - np.mean(): Calcula a média aritmética dos valores, representando o valor central de um conjunto de dados.\n",
    "media = np.mean(lista_aleatoria)\n",
    "print(media)"
   ]
  },
  {
   "cell_type": "code",
   "execution_count": 31,
   "id": "65a88ce2-e59a-4282-ae52-8a823b6bd12a",
   "metadata": {},
   "outputs": [
    {
     "name": "stdout",
     "output_type": "stream",
     "text": [
      "6.3149999999999995\n"
     ]
    }
   ],
   "source": [
    "#02 - np.median(): Encontra o valor central em um conjunto de dados, dividindo a lista em duas partes iguais.\n",
    "valor_central = np.median(lista_aleatoria)\n",
    "print(valor_central)"
   ]
  },
  {
   "cell_type": "code",
   "execution_count": 32,
   "id": "c94abdad-fb20-41c1-ab95-8f0eb9cb5215",
   "metadata": {},
   "outputs": [
    {
     "name": "stdout",
     "output_type": "stream",
     "text": [
      "2.9514884380596853\n"
     ]
    }
   ],
   "source": [
    "#03 - np.std(): Mede a dispersão dos dados em relação à média, indicando quanto os valores variam.\n",
    "dispersao = np.std(lista_aleatoria)\n",
    "print(dispersao)"
   ]
  },
  {
   "cell_type": "code",
   "execution_count": 33,
   "id": "45b8adcc-c3eb-4618-b787-b093874ea49f",
   "metadata": {},
   "outputs": [
    {
     "name": "stdout",
     "output_type": "stream",
     "text": [
      "8.711284000000001\n"
     ]
    }
   ],
   "source": [
    "#04 - np.var(): Calcula a variância, que é a média dos quadrados das diferenças em relação à média.\n",
    "variancia = np.var(lista_aleatoria)\n",
    "print(variancia)"
   ]
  },
  {
   "cell_type": "code",
   "execution_count": 34,
   "id": "ef1e7421-ab46-4e3f-a727-0b597893bde1",
   "metadata": {},
   "outputs": [
    {
     "name": "stdout",
     "output_type": "stream",
     "text": [
      "0.69\n"
     ]
    }
   ],
   "source": [
    "#05 - np.min(): Retorna o menor valor do array, ajudando a identificar o ponto mais baixo dos dados.\n",
    "menor = np.min(lista_aleatoria)\n",
    "print(menor)"
   ]
  },
  {
   "cell_type": "code",
   "execution_count": 36,
   "id": "b48b04b0-0ddc-4fc4-bcc2-2a08e9d4954e",
   "metadata": {},
   "outputs": [
    {
     "name": "stdout",
     "output_type": "stream",
     "text": [
      "9.8\n"
     ]
    }
   ],
   "source": [
    "#06 - np.max(): Retorna o maior valor do array, identificando o ponto mais alto dos dados.\n",
    "maior = np.max(lista_aleatoria)\n",
    "print(maior)"
   ]
  },
  {
   "cell_type": "markdown",
   "id": "0650f9f9-71f2-4070-aa8a-d110a58b15de",
   "metadata": {},
   "source": [
    "# Mascara Booleana no Numpy"
   ]
  },
  {
   "cell_type": "markdown",
   "id": "82cb0390-4707-4389-9eac-532e7bc20dc3",
   "metadata": {},
   "source": [
    "##### Uma máscara booleana é uma estrutura de dados (geralmente um array ou série) que contém valores booleanos (True ou False). No contexto do NumPy ou Pandas, é usada para filtrar ou selecionar elementos de um array ou DataFrame com base em uma condição específica."
   ]
  },
  {
   "cell_type": "code",
   "execution_count": 41,
   "id": "a2ba4b51-d201-4696-901f-703a53a53728",
   "metadata": {},
   "outputs": [
    {
     "name": "stdout",
     "output_type": "stream",
     "text": [
      "Array original: [ 5 10 15 20 25]\n",
      "Máscara booleana: [False False False  True  True]\n",
      "Elementos maiores que 15: [20 25]\n"
     ]
    }
   ],
   "source": [
    "# Criando um array de números\n",
    "array = np.array([5, 10, 15, 20, 25])\n",
    "\n",
    "# Criando uma máscara booleana para selecionar elementos maiores que 15\n",
    "mascara = array > 15\n",
    "\n",
    "# Aplicando a máscara para filtrar o array\n",
    "resultado = array[mascara]\n",
    "\n",
    "print(\"Array original:\", array)\n",
    "print(\"Máscara booleana:\", mascara)\n",
    "print(\"Elementos maiores que 15:\", resultado)\n"
   ]
  },
  {
   "cell_type": "code",
   "execution_count": 42,
   "id": "8fee10fa-aade-4f44-abad-3e24001a14ca",
   "metadata": {},
   "outputs": [
    {
     "name": "stdout",
     "output_type": "stream",
     "text": [
      "[ 0  0 15 20 25]\n"
     ]
    }
   ],
   "source": [
    "# Modificação de elementos \n",
    "array[array < 15] = 0  # Altera elementos menores que 15 para 0\n",
    "print(array)"
   ]
  },
  {
   "cell_type": "code",
   "execution_count": 46,
   "id": "a6af64e7-f577-42db-a715-971c0fbcc6a9",
   "metadata": {},
   "outputs": [
    {
     "name": "stdout",
     "output_type": "stream",
     "text": [
      "3\n",
      "2\n"
     ]
    }
   ],
   "source": [
    "# Contagem de elementos\n",
    "count = np.sum(array >= 15)\n",
    "print(count)\n",
    "count = np.sum(array > 15)\n",
    "print(count)"
   ]
  },
  {
   "cell_type": "code",
   "execution_count": 49,
   "id": "ea48c5e1-8403-4579-af69-53f4b724f4ef",
   "metadata": {},
   "outputs": [
    {
     "name": "stdout",
     "output_type": "stream",
     "text": [
      "[False False  True False False]\n",
      "[15]\n"
     ]
    }
   ],
   "source": [
    "# Combinação de condições\n",
    "mask = (array > 10) & (array < 20)\n",
    "print(mask)\n",
    "print(array[mask])"
   ]
  },
  {
   "cell_type": "code",
   "execution_count": null,
   "id": "a0410014-0df6-4d86-85ac-a9b3f94527df",
   "metadata": {},
   "outputs": [],
   "source": []
  }
 ],
 "metadata": {
  "kernelspec": {
   "display_name": "Python 3 (ipykernel)",
   "language": "python",
   "name": "python3"
  },
  "language_info": {
   "codemirror_mode": {
    "name": "ipython",
    "version": 3
   },
   "file_extension": ".py",
   "mimetype": "text/x-python",
   "name": "python",
   "nbconvert_exporter": "python",
   "pygments_lexer": "ipython3",
   "version": "3.12.7"
  }
 },
 "nbformat": 4,
 "nbformat_minor": 5
}
