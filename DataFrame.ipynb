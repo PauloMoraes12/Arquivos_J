{
 "cells": [
  {
   "cell_type": "markdown",
   "id": "db55ecb2-fb32-4c54-b743-fb5f57ce3d05",
   "metadata": {},
   "source": [
    "# DataFrame "
   ]
  },
  {
   "cell_type": "markdown",
   "id": "a200706d-d3fc-4e0d-b66f-c96c3534fadd",
   "metadata": {},
   "source": [
    "##### Um DataFrame é uma estrutura de dados bidimensional no Pandas, semelhante a uma tabela em um banco de dados ou uma planilha em Excel. Ele é composto por linhas e colunas, onde cada coluna pode conter diferentes tipos de dados (números, strings, etc.). Os DataFrames possuem índices que permitem acesso e manipulação fácil dos dados. Essa estrutura é amplamente utilizada em ciência de dados para análise e manipulação de grandes conjuntos de dados. Se precisar de mais detalhes ou exemplos, é só avisar!"
   ]
  },
  {
   "cell_type": "code",
   "execution_count": 1,
   "id": "45274686-01b8-47b0-854a-57905172e0f7",
   "metadata": {},
   "outputs": [
    {
     "name": "stdout",
     "output_type": "stream",
     "text": [
      "The history saving thread hit an unexpected error (OperationalError('attempt to write a readonly database')).History will not be written to the database.\n"
     ]
    }
   ],
   "source": [
    "# Importar a biblioteca\n",
    "import pandas as pd"
   ]
  },
  {
   "cell_type": "code",
   "execution_count": 2,
   "id": "f6b3450f-e35f-4692-a515-9d990e5e9859",
   "metadata": {},
   "outputs": [],
   "source": [
    "data = {\n",
    "        \"nome\": [\"Paulo\", \"Victor\", \"João\", \"Pedro\"],\n",
    "        \"Idade\":[25, 30, 27, 26],\n",
    "        \"Cidade\":[\"Imperatriz\",\"Ribamar Fiquene\",\"Açailandia\",\"Maraba\"]} \n",
    "\n",
    "df = pd.DataFrame(data)"
   ]
  },
  {
   "cell_type": "code",
   "execution_count": 4,
   "id": "9d1f00c5-5db8-4e18-9c5e-d774b831133f",
   "metadata": {},
   "outputs": [
    {
     "name": "stdout",
     "output_type": "stream",
     "text": [
      "     nome  Idade           Cidade\n",
      "0   Paulo     25       Imperatriz\n",
      "1  Victor     30  Ribamar Fiquene\n",
      "2    João     27       Açailandia\n",
      "3   Pedro     26           Maraba\n"
     ]
    }
   ],
   "source": [
    "# Exibir o DataFrame\n",
    "print(df)"
   ]
  },
  {
   "cell_type": "markdown",
   "id": "c70124d5-c637-4cfa-8669-b7bf5a4211ee",
   "metadata": {},
   "source": [
    "# Manipulando DataFrame"
   ]
  },
  {
   "cell_type": "code",
   "execution_count": 5,
   "id": "b68bfdcd-1885-48e0-bca7-07ee9d86f0ae",
   "metadata": {},
   "outputs": [
    {
     "name": "stdout",
     "output_type": "stream",
     "text": [
      "0    25\n",
      "1    30\n",
      "2    27\n",
      "3    26\n",
      "Name: Idade, dtype: int64\n"
     ]
    }
   ],
   "source": [
    "# Acessar uma coluna específica\n",
    "idades = df[\"Idade\"]\n",
    "print(idades)"
   ]
  },
  {
   "cell_type": "code",
   "execution_count": 6,
   "id": "77fe54f0-f702-442c-92f1-503e3472b168",
   "metadata": {},
   "outputs": [
    {
     "name": "stdout",
     "output_type": "stream",
     "text": [
      "     nome  Idade           Cidade\n",
      "1  Victor     30  Ribamar Fiquene\n"
     ]
    }
   ],
   "source": [
    "# Filtrando linhas\n",
    "filtro = df[df[\"Idade\"] > 28]\n",
    "print(filtro)"
   ]
  },
  {
   "cell_type": "code",
   "execution_count": 50,
   "id": "3fb5aed3-a0cf-43c5-a0b5-b448886a8b7e",
   "metadata": {},
   "outputs": [
    {
     "name": "stdout",
     "output_type": "stream",
     "text": [
      "     nome  Idade           Cidade  Salario\n",
      "0   Paulo     25       Imperatriz     5000\n",
      "1  Victor     30  Ribamar Fiquene     2000\n",
      "2    João     27       Açailandia     1500\n",
      "3   Pedro     26           Maraba    10000\n"
     ]
    }
   ],
   "source": [
    "# Adicionar uma nova coluna\n",
    "df[\"Salario\"] = [5000, 2000, 1500, 10000]\n",
    "print(df)"
   ]
  },
  {
   "cell_type": "code",
   "execution_count": 52,
   "id": "49140b5a-33af-4bd7-8107-abaec8a410dd",
   "metadata": {},
   "outputs": [
    {
     "name": "stdout",
     "output_type": "stream",
     "text": [
      "      nome  Idade           Cidade  Salario\n",
      "0    Paulo     25       Imperatriz     5000\n",
      "1   Victor     30  Ribamar Fiquene     2000\n",
      "2     João     27       Açailandia     1500\n",
      "3    Pedro     26           Maraba    10000\n",
      "4  Rodrigo     22         São Luis     3500\n"
     ]
    }
   ],
   "source": [
    "# Adicionar uma nova linha\n",
    "df.loc[4] = [\"Rodrigo\", 22, \"São Luis\", 3500]\n",
    "print(df)"
   ]
  },
  {
   "cell_type": "code",
   "execution_count": 9,
   "id": "5352590b-47ee-4390-8e63-6c5ffdb06a99",
   "metadata": {},
   "outputs": [
    {
     "name": "stdout",
     "output_type": "stream",
     "text": [
      "\n",
      "Estatísticas Descritivas:\n",
      "           Idade       Salario\n",
      "count   4.000000      4.000000\n",
      "mean   27.000000   4625.000000\n",
      "std     2.160247   3902.456491\n",
      "min    25.000000   1500.000000\n",
      "25%    25.750000   1875.000000\n",
      "50%    26.500000   3500.000000\n",
      "75%    27.750000   6250.000000\n",
      "max    30.000000  10000.000000\n"
     ]
    }
   ],
   "source": [
    "# Calcular estatísticas descritivas\n",
    "estatisticas = df.describe()\n",
    "print(\"\\nEstatísticas Descritivas:\")\n",
    "print(estatisticas)\n"
   ]
  },
  {
   "cell_type": "code",
   "execution_count": 12,
   "id": "ef16b30c-d0aa-40c4-9497-1ecfc2039750",
   "metadata": {},
   "outputs": [
    {
     "data": {
      "text/plain": [
       "30"
      ]
     },
     "execution_count": 12,
     "metadata": {},
     "output_type": "execute_result"
    }
   ],
   "source": [
    "df[\"Idade\"][1] "
   ]
  },
  {
   "cell_type": "markdown",
   "id": "9df1d25c-3b81-4307-a9bc-4feeab4e5a73",
   "metadata": {},
   "source": [
    "# Máscara Booleana "
   ]
  },
  {
   "cell_type": "code",
   "execution_count": 8,
   "id": "b6bf5732-51a8-4884-a57c-018d0419b98c",
   "metadata": {},
   "outputs": [
    {
     "name": "stdout",
     "output_type": "stream",
     "text": [
      "DataFrame filtrado (Idade > 28):\n",
      "     nome  Idade           Cidade  Salario\n",
      "1  Victor     30  Ribamar Fiquene     2000\n"
     ]
    }
   ],
   "source": [
    "# Aplicando uma máscara booleana para filtrar linhas onde a idade é maior que 28\n",
    "mascara = df['Idade'] > 28\n",
    "filtro = df[mascara]\n",
    "\n",
    "print(\"DataFrame filtrado (Idade > 28):\")\n",
    "print(filtro)"
   ]
  },
  {
   "cell_type": "markdown",
   "id": "ee001c85-9e9b-4b2f-831b-16304c66e2bf",
   "metadata": {},
   "source": [
    "# Acessando elementos especificos"
   ]
  },
  {
   "cell_type": "code",
   "execution_count": 15,
   "id": "5e3ee0fd-7c2c-4060-a1cf-922f18674ee3",
   "metadata": {},
   "outputs": [
    {
     "data": {
      "text/plain": [
       "0     Paulo\n",
       "1    Victor\n",
       "2      João\n",
       "3     Pedro\n",
       "Name: nome, dtype: object"
      ]
     },
     "execution_count": 15,
     "metadata": {},
     "output_type": "execute_result"
    }
   ],
   "source": [
    "# Acessar coluna\n",
    "df[\"nome\"]"
   ]
  },
  {
   "cell_type": "code",
   "execution_count": 17,
   "id": "d01d360e-4ea3-4976-9335-14ea1bb62836",
   "metadata": {},
   "outputs": [
    {
     "data": {
      "text/plain": [
       "nome            Paulo\n",
       "Idade              25\n",
       "Cidade     Imperatriz\n",
       "Salario          5000\n",
       "Name: 0, dtype: object"
      ]
     },
     "execution_count": 17,
     "metadata": {},
     "output_type": "execute_result"
    }
   ],
   "source": [
    "# Acessar linha por índice\n",
    "# Use o método iloc[] para acessar por índice numérico\n",
    "df.iloc[0] #Acessa a primeira linha\n",
    "#df.iloc[1] #Acessa a segunda linha"
   ]
  },
  {
   "cell_type": "code",
   "execution_count": 23,
   "id": "85a9ad60-8771-496e-b9e3-64b2448630e9",
   "metadata": {},
   "outputs": [
    {
     "name": "stdout",
     "output_type": "stream",
     "text": [
      "     nome  Idade           Cidade  Salario\n",
      "0   Paulo     25       Imperatriz     5000\n",
      "1  Victor     30  Ribamar Fiquene     2000\n",
      "2    João     27       Açailandia     1500\n",
      "3   Pedro     26           Maraba    10000\n"
     ]
    }
   ],
   "source": [
    "print(df) #Fiz esse só para verificar "
   ]
  },
  {
   "cell_type": "code",
   "execution_count": 22,
   "id": "485e0682-6277-45eb-8867-2445d65e630d",
   "metadata": {},
   "outputs": [
    {
     "data": {
      "text/html": [
       "<div>\n",
       "<style scoped>\n",
       "    .dataframe tbody tr th:only-of-type {\n",
       "        vertical-align: middle;\n",
       "    }\n",
       "\n",
       "    .dataframe tbody tr th {\n",
       "        vertical-align: top;\n",
       "    }\n",
       "\n",
       "    .dataframe thead th {\n",
       "        text-align: right;\n",
       "    }\n",
       "</style>\n",
       "<table border=\"1\" class=\"dataframe\">\n",
       "  <thead>\n",
       "    <tr style=\"text-align: right;\">\n",
       "      <th></th>\n",
       "      <th>nome</th>\n",
       "      <th>Idade</th>\n",
       "      <th>Cidade</th>\n",
       "      <th>Salario</th>\n",
       "    </tr>\n",
       "  </thead>\n",
       "  <tbody>\n",
       "    <tr>\n",
       "      <th>1</th>\n",
       "      <td>Victor</td>\n",
       "      <td>30</td>\n",
       "      <td>Ribamar Fiquene</td>\n",
       "      <td>2000</td>\n",
       "    </tr>\n",
       "    <tr>\n",
       "      <th>2</th>\n",
       "      <td>João</td>\n",
       "      <td>27</td>\n",
       "      <td>Açailandia</td>\n",
       "      <td>1500</td>\n",
       "    </tr>\n",
       "  </tbody>\n",
       "</table>\n",
       "</div>"
      ],
      "text/plain": [
       "     nome  Idade           Cidade  Salario\n",
       "1  Victor     30  Ribamar Fiquene     2000\n",
       "2    João     27       Açailandia     1500"
      ]
     },
     "execution_count": 22,
     "metadata": {},
     "output_type": "execute_result"
    }
   ],
   "source": [
    "# Acessa linha pro condição:\n",
    "df[df[\"Idade\"]> 26]"
   ]
  },
  {
   "cell_type": "code",
   "execution_count": 36,
   "id": "1291f870-2d7c-4a65-a30a-e2d2e2b328b6",
   "metadata": {},
   "outputs": [
    {
     "data": {
      "text/plain": [
       "'Açailandia'"
      ]
     },
     "execution_count": 36,
     "metadata": {},
     "output_type": "execute_result"
    }
   ],
   "source": [
    "# Acessa elemento específico \n",
    "# Use o loc[] para acessar por rótulo de linha e coluna\n",
    "#df.loc[0, \"nome\"]\n",
    "#df.loc[1, \"nome\"]\n",
    "df.loc[2, \"Cidade\"]\n",
    "#df.loc[1, \"Cidade\"]\n",
    "#df.loc[3, \"Salario\"]"
   ]
  },
  {
   "cell_type": "code",
   "execution_count": 31,
   "id": "3f591cce-6a44-4d86-bb59-a3921fa2983e",
   "metadata": {},
   "outputs": [
    {
     "data": {
      "text/plain": [
       "0     Lucas\n",
       "1    Victor\n",
       "2      João\n",
       "3     Pedro\n",
       "Name: nome, dtype: object"
      ]
     },
     "execution_count": 31,
     "metadata": {},
     "output_type": "execute_result"
    }
   ],
   "source": [
    "# Altera um elemento\n",
    "# Use o loc[] para acessar por rótulo de linha e coluna\n",
    "df.loc[0, \"nome\"] = \"Lucas\"\n",
    "#df.loc[0, \"nome\"] = \"Paulo\"\n",
    "df[\"nome\"]"
   ]
  },
  {
   "cell_type": "code",
   "execution_count": 32,
   "id": "af58c7b0-3887-41dc-beca-23e1f689a377",
   "metadata": {},
   "outputs": [
    {
     "data": {
      "text/plain": [
       "0     Paulo\n",
       "1    Victor\n",
       "2      João\n",
       "3     Pedro\n",
       "Name: nome, dtype: object"
      ]
     },
     "execution_count": 32,
     "metadata": {},
     "output_type": "execute_result"
    }
   ],
   "source": [
    "df.loc[0, \"nome\"] = \"Paulo\"\n",
    "df[\"nome\"]"
   ]
  },
  {
   "cell_type": "code",
   "execution_count": 46,
   "id": "11b95ba8-bed9-4595-bb53-35281d9feea3",
   "metadata": {},
   "outputs": [
    {
     "data": {
      "text/plain": [
       "0    False\n",
       "1    False\n",
       "2    False\n",
       "3     True\n",
       "Name: Idade, dtype: bool"
      ]
     },
     "execution_count": 46,
     "metadata": {},
     "output_type": "execute_result"
    }
   ],
   "source": [
    "#Outra coisa especifica/ Use mascara booleana\n",
    "#mask = (df[\"Idade\"] == 26) -- Aqui da errado\n",
    "df[\"Idade\"] == 26"
   ]
  },
  {
   "cell_type": "code",
   "execution_count": 48,
   "id": "03ccf410-0304-4ef8-b1d5-5d874777a623",
   "metadata": {},
   "outputs": [
    {
     "data": {
      "text/html": [
       "<div>\n",
       "<style scoped>\n",
       "    .dataframe tbody tr th:only-of-type {\n",
       "        vertical-align: middle;\n",
       "    }\n",
       "\n",
       "    .dataframe tbody tr th {\n",
       "        vertical-align: top;\n",
       "    }\n",
       "\n",
       "    .dataframe thead th {\n",
       "        text-align: right;\n",
       "    }\n",
       "</style>\n",
       "<table border=\"1\" class=\"dataframe\">\n",
       "  <thead>\n",
       "    <tr style=\"text-align: right;\">\n",
       "      <th></th>\n",
       "      <th>nome</th>\n",
       "      <th>Idade</th>\n",
       "      <th>Cidade</th>\n",
       "      <th>Salario</th>\n",
       "    </tr>\n",
       "  </thead>\n",
       "  <tbody>\n",
       "    <tr>\n",
       "      <th>3</th>\n",
       "      <td>Pedro</td>\n",
       "      <td>26</td>\n",
       "      <td>Maraba</td>\n",
       "      <td>10000</td>\n",
       "    </tr>\n",
       "  </tbody>\n",
       "</table>\n",
       "</div>"
      ],
      "text/plain": [
       "    nome  Idade  Cidade  Salario\n",
       "3  Pedro     26  Maraba    10000"
      ]
     },
     "execution_count": 48,
     "metadata": {},
     "output_type": "execute_result"
    }
   ],
   "source": [
    "mask = (df[\"Idade\"] == 26)\n",
    "df[mask]"
   ]
  },
  {
   "cell_type": "markdown",
   "id": "5257552c-22af-4725-bec2-1fca16ddc083",
   "metadata": {},
   "source": [
    "# Estatística de coluna"
   ]
  },
  {
   "cell_type": "code",
   "execution_count": 39,
   "id": "e309e309-8b4c-47b0-8081-7223644fc3b0",
   "metadata": {},
   "outputs": [
    {
     "name": "stdout",
     "output_type": "stream",
     "text": [
      "27.0\n",
      "<class 'numpy.float64'>\n"
     ]
    },
    {
     "data": {
      "text/plain": [
       "27.0"
      ]
     },
     "execution_count": 39,
     "metadata": {},
     "output_type": "execute_result"
    }
   ],
   "source": [
    "media = df['Idade'].mean()\n",
    "print(media)\n",
    "print(type(media))\n",
    "#ou\n",
    "df['Idade'].mean()"
   ]
  },
  {
   "cell_type": "code",
   "execution_count": 54,
   "id": "f90b87d5-7044-4c27-bcec-7aff995b52a3",
   "metadata": {},
   "outputs": [],
   "source": [
    "df.loc[2, \"Cidade\"] = \"Lima\""
   ]
  },
  {
   "cell_type": "code",
   "execution_count": 55,
   "id": "e530638f-7ef3-4918-9d6b-16b62425b09e",
   "metadata": {},
   "outputs": [
    {
     "data": {
      "text/plain": [
       "'Lima'"
      ]
     },
     "execution_count": 55,
     "metadata": {},
     "output_type": "execute_result"
    }
   ],
   "source": [
    "df.loc[2, \"Cidade\"]"
   ]
  },
  {
   "cell_type": "code",
   "execution_count": null,
   "id": "76d07e36-89b0-4114-b4b3-73c04aeedc86",
   "metadata": {},
   "outputs": [],
   "source": []
  }
 ],
 "metadata": {
  "kernelspec": {
   "display_name": "Python 3 (ipykernel)",
   "language": "python",
   "name": "python3"
  },
  "language_info": {
   "codemirror_mode": {
    "name": "ipython",
    "version": 3
   },
   "file_extension": ".py",
   "mimetype": "text/x-python",
   "name": "python",
   "nbconvert_exporter": "python",
   "pygments_lexer": "ipython3",
   "version": "3.12.7"
  }
 },
 "nbformat": 4,
 "nbformat_minor": 5
}
